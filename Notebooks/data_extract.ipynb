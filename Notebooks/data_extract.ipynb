{
 "cells": [
  {
   "cell_type": "code",
   "execution_count": 1,
   "metadata": {},
   "outputs": [],
   "source": [
    "import requests\n",
    "import time\n",
    "import csv\n",
    "\n",
    "API_KEY = 'your_tmdb_api_key'\n",
    "BASE_URL = 'https://api.themoviedb.org/3'\n",
    "MOVIE_COUNT = 10000\n",
    "REQUESTS_PER_SECOND = 40\n",
    "SLEEP_TIME = 1.0 / REQUESTS_PER_SECOND"
   ]
  },
  {
   "cell_type": "code",
   "execution_count": 8,
   "metadata": {},
   "outputs": [],
   "source": [
    "\n",
    "def fetch_movie_details(movie_id):\n",
    "    time.sleep(SLEEP_TIME)\n",
    "    movie_url = f\"{BASE_URL}/movie/{movie_id}?api_key={API_KEY}\"\n",
    "    credits_url = f\"{BASE_URL}/movie/{movie_id}/credits?api_key={API_KEY}\"\n",
    "\n",
    "    movie_response = requests.get(movie_url)\n",
    "    credits_response = requests.get(credits_url)\n",
    "\n",
    "    if movie_response.status_code == 200 and credits_response.status_code == 200:\n",
    "        movie_data = movie_response.json()\n",
    "        credits_data = credits_response.json()\n",
    "\n",
    "        title = movie_data.get('title', 'N/A')\n",
    "        description = movie_data.get('overview', 'N/A')\n",
    "        genres = ', '.join([genre['name'] for genre in movie_data.get('genres', [])])  # Get genre names\n",
    "\n",
    "        actors = ', '.join([actor['name'] for actor in credits_data.get('cast', [])[:5]])  # Get top 5 actors\n",
    "        director = next((member['name'] for member in credits_data.get('crew', []) if member['job'] == 'Director'), 'N/A')\n",
    "\n",
    "        return {\n",
    "            'title': title,\n",
    "            'description': description,\n",
    "            'genres': genres,\n",
    "            'actors': actors,\n",
    "            'director': director\n",
    "        }\n",
    "    else:\n",
    "        return None"
   ]
  },
  {
   "cell_type": "code",
   "execution_count": 10,
   "metadata": {},
   "outputs": [
    {
     "name": "stdout",
     "output_type": "stream",
     "text": [
      "Failed to fetch page 1\n"
     ]
    }
   ],
   "source": [
    "def fetch_top_movies():\n",
    "    time.sleep(SLEEP_TIME)\n",
    "    movies = []\n",
    "    page = 1\n",
    "    while len(movies) < MOVIE_COUNT:\n",
    "        discover_url = f\"{BASE_URL}/discover/movie?api_key={API_KEY}&sort_by=popularity.desc&page={page}\"\n",
    "        response = requests.get(discover_url)\n",
    "        if response.status_code == 200:\n",
    "            data = response.json()\n",
    "            for movie in data.get('results', []):\n",
    "                if len(movies) >= MOVIE_COUNT:\n",
    "                    break\n",
    "                movie_id = movie['id']\n",
    "                movie_details = fetch_movie_details(movie_id)\n",
    "                if movie_details:\n",
    "                    movies.append(movie_details)\n",
    "            page += 1\n",
    "        else:\n",
    "            print(f\"Failed to fetch page {page}\")\n",
    "            break\n",
    "        time.sleep(0.5)  # To avoid hitting rate limits\n",
    "\n",
    "    return movies\n",
    "\n",
    "top_movies = fetch_top_movies()"
   ]
  },
  {
   "cell_type": "code",
   "execution_count": 21,
   "metadata": {},
   "outputs": [],
   "source": [
    "import csv\n",
    "\n",
    "# Assume 'movies' is the list of dictionaries holding your movie data\n",
    "with open('movies_so_far.csv', 'w', newline='', encoding='utf-8') as file:\n",
    "    fieldnames = ['title', 'description', 'genres', 'actors', 'director']  # adjust according to your data structure\n",
    "    writer = csv.DictWriter(file, fieldnames=fieldnames)\n",
    "    writer.writeheader()\n",
    "    for movie in top_movies:  # 'movies' should be the variable holding your data\n",
    "        writer.writerow(movie)"
   ]
  },
  {
   "cell_type": "code",
   "execution_count": null,
   "metadata": {},
   "outputs": [
    {
     "data": {
      "text/plain": [
       "{'title': 'Kingdom of the Planet of the Apes',\n",
       " 'description': \"Several generations in the future following Caesar's reign, apes are now the dominant species and live harmoniously while humans have been reduced to living in the shadows. As a new tyrannical ape leader builds his empire, one young ape undertakes a harrowing journey that will cause him to question all that he has known about the past and to make choices that will define a future for apes and humans alike.\",\n",
       " 'genres': 'Science Fiction, Adventure, Action',\n",
       " 'actors': 'Owen Teague, Freya Allan, Kevin Durand, Peter Macon, William H. Macy',\n",
       " 'director': 'Wes Ball'}"
      ]
     },
     "execution_count": 12,
     "metadata": {},
     "output_type": "execute_result"
    }
   ],
   "source": [
    "top_movies[0]"
   ]
  },
  {
   "cell_type": "code",
   "execution_count": null,
   "metadata": {},
   "outputs": [],
   "source": [
    "# Save the results to a CSV file\n",
    "with open('top_10000_movies.csv', mode='w', newline='', encoding='utf-8') as file:\n",
    "    writer = csv.DictWriter(file, fieldnames=['title', 'description', 'actors', 'director'])\n",
    "    writer.writeheader()\n",
    "    for movie in top_movies:\n",
    "        writer.writerow(movie)\n",
    "\n",
    "print(f\"Fetched details of {len(top_movies)} movies and saved to CSV.\")\n"
   ]
  },
  {
   "cell_type": "code",
   "execution_count": 1,
   "metadata": {},
   "outputs": [],
   "source": [
    "import pandas as pd"
   ]
  },
  {
   "cell_type": "code",
   "execution_count": 2,
   "metadata": {},
   "outputs": [],
   "source": [
    "df = pd.read_csv('movies.csv')"
   ]
  },
  {
   "cell_type": "code",
   "execution_count": 3,
   "metadata": {},
   "outputs": [
    {
     "data": {
      "text/html": [
       "<div>\n",
       "<style scoped>\n",
       "    .dataframe tbody tr th:only-of-type {\n",
       "        vertical-align: middle;\n",
       "    }\n",
       "\n",
       "    .dataframe tbody tr th {\n",
       "        vertical-align: top;\n",
       "    }\n",
       "\n",
       "    .dataframe thead th {\n",
       "        text-align: right;\n",
       "    }\n",
       "</style>\n",
       "<table border=\"1\" class=\"dataframe\">\n",
       "  <thead>\n",
       "    <tr style=\"text-align: right;\">\n",
       "      <th></th>\n",
       "      <th>id</th>\n",
       "      <th>title</th>\n",
       "      <th>description</th>\n",
       "      <th>release_date</th>\n",
       "      <th>rating</th>\n",
       "      <th>vote_count</th>\n",
       "      <th>genres</th>\n",
       "      <th>actors</th>\n",
       "      <th>director</th>\n",
       "    </tr>\n",
       "  </thead>\n",
       "  <tbody>\n",
       "    <tr>\n",
       "      <th>0</th>\n",
       "      <td>27205</td>\n",
       "      <td>Inception</td>\n",
       "      <td>Cobb, a skilled thief who commits corporate es...</td>\n",
       "      <td>2010-07-15</td>\n",
       "      <td>8.368</td>\n",
       "      <td>35811</td>\n",
       "      <td>Action, Science Fiction, Adventure</td>\n",
       "      <td>Leonardo DiCaprio, Joseph Gordon-Levitt, Ken W...</td>\n",
       "      <td>Christopher Nolan</td>\n",
       "    </tr>\n",
       "    <tr>\n",
       "      <th>1</th>\n",
       "      <td>157336</td>\n",
       "      <td>Interstellar</td>\n",
       "      <td>The adventures of a group of explorers who mak...</td>\n",
       "      <td>2014-11-05</td>\n",
       "      <td>8.434</td>\n",
       "      <td>34465</td>\n",
       "      <td>Adventure, Drama, Science Fiction</td>\n",
       "      <td>Matthew McConaughey, Anne Hathaway, Michael Ca...</td>\n",
       "      <td>Christopher Nolan</td>\n",
       "    </tr>\n",
       "    <tr>\n",
       "      <th>2</th>\n",
       "      <td>155</td>\n",
       "      <td>The Dark Knight</td>\n",
       "      <td>Batman raises the stakes in his war on crime. ...</td>\n",
       "      <td>2008-07-16</td>\n",
       "      <td>8.515</td>\n",
       "      <td>32012</td>\n",
       "      <td>Drama, Action, Crime, Thriller</td>\n",
       "      <td>Christian Bale, Heath Ledger, Michael Caine, G...</td>\n",
       "      <td>Christopher Nolan</td>\n",
       "    </tr>\n",
       "    <tr>\n",
       "      <th>3</th>\n",
       "      <td>19995</td>\n",
       "      <td>Avatar</td>\n",
       "      <td>In the 22nd century, a paraplegic Marine is di...</td>\n",
       "      <td>2009-12-15</td>\n",
       "      <td>7.581</td>\n",
       "      <td>30907</td>\n",
       "      <td>Action, Adventure, Fantasy, Science Fiction</td>\n",
       "      <td>Sam Worthington, Zoe Saldaña, Sigourney Weaver...</td>\n",
       "      <td>James Cameron</td>\n",
       "    </tr>\n",
       "    <tr>\n",
       "      <th>4</th>\n",
       "      <td>24428</td>\n",
       "      <td>The Avengers</td>\n",
       "      <td>When an unexpected enemy emerges and threatens...</td>\n",
       "      <td>2012-04-25</td>\n",
       "      <td>7.714</td>\n",
       "      <td>30090</td>\n",
       "      <td>Science Fiction, Action, Adventure</td>\n",
       "      <td>Robert Downey Jr., Chris Evans, Mark Ruffalo, ...</td>\n",
       "      <td>Joss Whedon</td>\n",
       "    </tr>\n",
       "  </tbody>\n",
       "</table>\n",
       "</div>"
      ],
      "text/plain": [
       "       id            title                                        description  \\\n",
       "0   27205        Inception  Cobb, a skilled thief who commits corporate es...   \n",
       "1  157336     Interstellar  The adventures of a group of explorers who mak...   \n",
       "2     155  The Dark Knight  Batman raises the stakes in his war on crime. ...   \n",
       "3   19995           Avatar  In the 22nd century, a paraplegic Marine is di...   \n",
       "4   24428     The Avengers  When an unexpected enemy emerges and threatens...   \n",
       "\n",
       "  release_date  rating  vote_count  \\\n",
       "0   2010-07-15   8.368       35811   \n",
       "1   2014-11-05   8.434       34465   \n",
       "2   2008-07-16   8.515       32012   \n",
       "3   2009-12-15   7.581       30907   \n",
       "4   2012-04-25   7.714       30090   \n",
       "\n",
       "                                        genres  \\\n",
       "0           Action, Science Fiction, Adventure   \n",
       "1            Adventure, Drama, Science Fiction   \n",
       "2               Drama, Action, Crime, Thriller   \n",
       "3  Action, Adventure, Fantasy, Science Fiction   \n",
       "4           Science Fiction, Action, Adventure   \n",
       "\n",
       "                                              actors           director  \n",
       "0  Leonardo DiCaprio, Joseph Gordon-Levitt, Ken W...  Christopher Nolan  \n",
       "1  Matthew McConaughey, Anne Hathaway, Michael Ca...  Christopher Nolan  \n",
       "2  Christian Bale, Heath Ledger, Michael Caine, G...  Christopher Nolan  \n",
       "3  Sam Worthington, Zoe Saldaña, Sigourney Weaver...      James Cameron  \n",
       "4  Robert Downey Jr., Chris Evans, Mark Ruffalo, ...        Joss Whedon  "
      ]
     },
     "execution_count": 3,
     "metadata": {},
     "output_type": "execute_result"
    }
   ],
   "source": [
    "df.head()"
   ]
  },
  {
   "cell_type": "code",
   "execution_count": 5,
   "metadata": {},
   "outputs": [
    {
     "data": {
      "text/plain": [
       "5315"
      ]
     },
     "execution_count": 5,
     "metadata": {},
     "output_type": "execute_result"
    }
   ],
   "source": [
    "df['id'].nunique()"
   ]
  },
  {
   "cell_type": "code",
   "execution_count": 6,
   "metadata": {},
   "outputs": [
    {
     "data": {
      "text/plain": [
       "(5315, 9)"
      ]
     },
     "execution_count": 6,
     "metadata": {},
     "output_type": "execute_result"
    }
   ],
   "source": [
    "df.shape"
   ]
  },
  {
   "cell_type": "code",
   "execution_count": null,
   "metadata": {},
   "outputs": [],
   "source": []
  }
 ],
 "metadata": {
  "kernelspec": {
   "display_name": "YT-env",
   "language": "python",
   "name": "python3"
  },
  "language_info": {
   "codemirror_mode": {
    "name": "ipython",
    "version": 3
   },
   "file_extension": ".py",
   "mimetype": "text/x-python",
   "name": "python",
   "nbconvert_exporter": "python",
   "pygments_lexer": "ipython3",
   "version": "3.9.19"
  }
 },
 "nbformat": 4,
 "nbformat_minor": 2
}
