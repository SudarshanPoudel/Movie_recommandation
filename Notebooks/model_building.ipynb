{
 "cells": [
  {
   "cell_type": "markdown",
   "metadata": {},
   "source": [
    "#### Import data"
   ]
  },
  {
   "cell_type": "code",
   "execution_count": 78,
   "metadata": {},
   "outputs": [],
   "source": [
    "import numpy as np\n",
    "import pandas as pd"
   ]
  },
  {
   "cell_type": "code",
   "execution_count": 79,
   "metadata": {},
   "outputs": [
    {
     "data": {
      "text/html": [
       "<div>\n",
       "<style scoped>\n",
       "    .dataframe tbody tr th:only-of-type {\n",
       "        vertical-align: middle;\n",
       "    }\n",
       "\n",
       "    .dataframe tbody tr th {\n",
       "        vertical-align: top;\n",
       "    }\n",
       "\n",
       "    .dataframe thead th {\n",
       "        text-align: right;\n",
       "    }\n",
       "</style>\n",
       "<table border=\"1\" class=\"dataframe\">\n",
       "  <thead>\n",
       "    <tr style=\"text-align: right;\">\n",
       "      <th></th>\n",
       "      <th>id</th>\n",
       "      <th>title</th>\n",
       "      <th>description</th>\n",
       "      <th>release_date</th>\n",
       "      <th>rating</th>\n",
       "      <th>vote_count</th>\n",
       "      <th>genres</th>\n",
       "      <th>actors</th>\n",
       "      <th>director</th>\n",
       "    </tr>\n",
       "  </thead>\n",
       "  <tbody>\n",
       "    <tr>\n",
       "      <th>0</th>\n",
       "      <td>27205</td>\n",
       "      <td>Inception</td>\n",
       "      <td>Cobb, a skilled thief who commits corporate es...</td>\n",
       "      <td>2010-07-15</td>\n",
       "      <td>8.368</td>\n",
       "      <td>35811</td>\n",
       "      <td>Action, Science Fiction, Adventure</td>\n",
       "      <td>Leonardo DiCaprio, Joseph Gordon-Levitt, Ken W...</td>\n",
       "      <td>Christopher Nolan</td>\n",
       "    </tr>\n",
       "    <tr>\n",
       "      <th>1</th>\n",
       "      <td>157336</td>\n",
       "      <td>Interstellar</td>\n",
       "      <td>The adventures of a group of explorers who mak...</td>\n",
       "      <td>2014-11-05</td>\n",
       "      <td>8.434</td>\n",
       "      <td>34465</td>\n",
       "      <td>Adventure, Drama, Science Fiction</td>\n",
       "      <td>Matthew McConaughey, Anne Hathaway, Michael Ca...</td>\n",
       "      <td>Christopher Nolan</td>\n",
       "    </tr>\n",
       "    <tr>\n",
       "      <th>2</th>\n",
       "      <td>155</td>\n",
       "      <td>The Dark Knight</td>\n",
       "      <td>Batman raises the stakes in his war on crime. ...</td>\n",
       "      <td>2008-07-16</td>\n",
       "      <td>8.515</td>\n",
       "      <td>32012</td>\n",
       "      <td>Drama, Action, Crime, Thriller</td>\n",
       "      <td>Christian Bale, Heath Ledger, Michael Caine, G...</td>\n",
       "      <td>Christopher Nolan</td>\n",
       "    </tr>\n",
       "    <tr>\n",
       "      <th>3</th>\n",
       "      <td>19995</td>\n",
       "      <td>Avatar</td>\n",
       "      <td>In the 22nd century, a paraplegic Marine is di...</td>\n",
       "      <td>2009-12-15</td>\n",
       "      <td>7.581</td>\n",
       "      <td>30907</td>\n",
       "      <td>Action, Adventure, Fantasy, Science Fiction</td>\n",
       "      <td>Sam Worthington, Zoe Saldaña, Sigourney Weaver...</td>\n",
       "      <td>James Cameron</td>\n",
       "    </tr>\n",
       "    <tr>\n",
       "      <th>4</th>\n",
       "      <td>24428</td>\n",
       "      <td>The Avengers</td>\n",
       "      <td>When an unexpected enemy emerges and threatens...</td>\n",
       "      <td>2012-04-25</td>\n",
       "      <td>7.714</td>\n",
       "      <td>30090</td>\n",
       "      <td>Science Fiction, Action, Adventure</td>\n",
       "      <td>Robert Downey Jr., Chris Evans, Mark Ruffalo, ...</td>\n",
       "      <td>Joss Whedon</td>\n",
       "    </tr>\n",
       "  </tbody>\n",
       "</table>\n",
       "</div>"
      ],
      "text/plain": [
       "       id            title                                        description  \\\n",
       "0   27205        Inception  Cobb, a skilled thief who commits corporate es...   \n",
       "1  157336     Interstellar  The adventures of a group of explorers who mak...   \n",
       "2     155  The Dark Knight  Batman raises the stakes in his war on crime. ...   \n",
       "3   19995           Avatar  In the 22nd century, a paraplegic Marine is di...   \n",
       "4   24428     The Avengers  When an unexpected enemy emerges and threatens...   \n",
       "\n",
       "  release_date  rating  vote_count  \\\n",
       "0   2010-07-15   8.368       35811   \n",
       "1   2014-11-05   8.434       34465   \n",
       "2   2008-07-16   8.515       32012   \n",
       "3   2009-12-15   7.581       30907   \n",
       "4   2012-04-25   7.714       30090   \n",
       "\n",
       "                                        genres  \\\n",
       "0           Action, Science Fiction, Adventure   \n",
       "1            Adventure, Drama, Science Fiction   \n",
       "2               Drama, Action, Crime, Thriller   \n",
       "3  Action, Adventure, Fantasy, Science Fiction   \n",
       "4           Science Fiction, Action, Adventure   \n",
       "\n",
       "                                              actors           director  \n",
       "0  Leonardo DiCaprio, Joseph Gordon-Levitt, Ken W...  Christopher Nolan  \n",
       "1  Matthew McConaughey, Anne Hathaway, Michael Ca...  Christopher Nolan  \n",
       "2  Christian Bale, Heath Ledger, Michael Caine, G...  Christopher Nolan  \n",
       "3  Sam Worthington, Zoe Saldaña, Sigourney Weaver...      James Cameron  \n",
       "4  Robert Downey Jr., Chris Evans, Mark Ruffalo, ...        Joss Whedon  "
      ]
     },
     "execution_count": 79,
     "metadata": {},
     "output_type": "execute_result"
    }
   ],
   "source": [
    "df = pd.read_csv('../Data/movies.csv')\n",
    "df.head()"
   ]
  },
  {
   "cell_type": "code",
   "execution_count": 80,
   "metadata": {},
   "outputs": [
    {
     "data": {
      "text/plain": [
       "(10000, 9)"
      ]
     },
     "execution_count": 80,
     "metadata": {},
     "output_type": "execute_result"
    }
   ],
   "source": [
    "df.shape"
   ]
  },
  {
   "cell_type": "code",
   "execution_count": 81,
   "metadata": {},
   "outputs": [
    {
     "data": {
      "text/plain": [
       "Index(['id', 'title', 'description', 'release_date', 'rating', 'vote_count',\n",
       "       'genres', 'actors', 'director'],\n",
       "      dtype='object')"
      ]
     },
     "execution_count": 81,
     "metadata": {},
     "output_type": "execute_result"
    }
   ],
   "source": [
    "df.columns"
   ]
  },
  {
   "cell_type": "markdown",
   "metadata": {},
   "source": [
    "### Preprocessing"
   ]
  },
  {
   "cell_type": "code",
   "execution_count": 82,
   "metadata": {},
   "outputs": [
    {
     "name": "stderr",
     "output_type": "stream",
     "text": [
      "[nltk_data] Downloading package stopwords to\n",
      "[nltk_data]     /home/sudarshan/nltk_data...\n",
      "[nltk_data]   Package stopwords is already up-to-date!\n"
     ]
    }
   ],
   "source": [
    "# Text preprocessing ('This is the <b> Horror </b> movie...' => 'horror movi')\n",
    "\n",
    "import re\n",
    "from nltk.stem import PorterStemmer\n",
    "from nltk.downloader import download\n",
    "from nltk.corpus import stopwords\n",
    "\n",
    "download('stopwords')\n",
    "stop_words = set(stopwords.words('english'))\n",
    "\n",
    "def preprocess_desc(text):\n",
    "    text = str(text)\n",
    "\n",
    "    #Lowercase\n",
    "    text = text.lower()\n",
    "\n",
    "    #Remove html tags\n",
    "    text = re.sub(r'<.*?>', ' ', text)\n",
    "\n",
    "    #Remove other Punctuation\n",
    "    text = re.sub(r'[^\\w]', ' ', text)\n",
    "\n",
    "    #Remove stopwords\n",
    "    text = ' '.join([word for word in text.split() if word not in stop_words])\n",
    "\n",
    "    #Stemming\n",
    "    stemmer = PorterStemmer()\n",
    "    text = stemmer.stem(text)\n",
    "\n",
    "    return text\n",
    "df['description'] = df['description'].apply(preprocess_desc)"
   ]
  },
  {
   "cell_type": "code",
   "execution_count": 83,
   "metadata": {},
   "outputs": [],
   "source": [
    "# Genre preprocessing (Science Fiction => sciencefiction)\n",
    "def preprocess_genre(genre):\n",
    "    genre = str(genre)\n",
    "    return ' '.join(g.replace(' ', '').lower() for g in genre.split(','))\n",
    "df['genres'] = df['genres'].apply(preprocess_genre)"
   ]
  },
  {
   "cell_type": "code",
   "execution_count": 84,
   "metadata": {},
   "outputs": [
    {
     "data": {
      "text/html": [
       "<div>\n",
       "<style scoped>\n",
       "    .dataframe tbody tr th:only-of-type {\n",
       "        vertical-align: middle;\n",
       "    }\n",
       "\n",
       "    .dataframe tbody tr th {\n",
       "        vertical-align: top;\n",
       "    }\n",
       "\n",
       "    .dataframe thead th {\n",
       "        text-align: right;\n",
       "    }\n",
       "</style>\n",
       "<table border=\"1\" class=\"dataframe\">\n",
       "  <thead>\n",
       "    <tr style=\"text-align: right;\">\n",
       "      <th></th>\n",
       "      <th>id</th>\n",
       "      <th>title</th>\n",
       "      <th>description</th>\n",
       "      <th>release_date</th>\n",
       "      <th>rating</th>\n",
       "      <th>vote_count</th>\n",
       "      <th>genres</th>\n",
       "      <th>actors</th>\n",
       "      <th>director</th>\n",
       "    </tr>\n",
       "  </thead>\n",
       "  <tbody>\n",
       "    <tr>\n",
       "      <th>0</th>\n",
       "      <td>27205</td>\n",
       "      <td>Inception</td>\n",
       "      <td>cobb skilled thief commits corporate espionage...</td>\n",
       "      <td>2010-07-15</td>\n",
       "      <td>8.368</td>\n",
       "      <td>35811</td>\n",
       "      <td>action sciencefiction adventure</td>\n",
       "      <td>Leonardo DiCaprio, Joseph Gordon-Levitt, Ken W...</td>\n",
       "      <td>Christopher Nolan</td>\n",
       "    </tr>\n",
       "    <tr>\n",
       "      <th>1</th>\n",
       "      <td>157336</td>\n",
       "      <td>Interstellar</td>\n",
       "      <td>adventures group explorers make use newly disc...</td>\n",
       "      <td>2014-11-05</td>\n",
       "      <td>8.434</td>\n",
       "      <td>34465</td>\n",
       "      <td>adventure drama sciencefiction</td>\n",
       "      <td>Matthew McConaughey, Anne Hathaway, Michael Ca...</td>\n",
       "      <td>Christopher Nolan</td>\n",
       "    </tr>\n",
       "    <tr>\n",
       "      <th>2</th>\n",
       "      <td>155</td>\n",
       "      <td>The Dark Knight</td>\n",
       "      <td>batman raises stakes war crime help lt jim gor...</td>\n",
       "      <td>2008-07-16</td>\n",
       "      <td>8.515</td>\n",
       "      <td>32012</td>\n",
       "      <td>drama action crime thriller</td>\n",
       "      <td>Christian Bale, Heath Ledger, Michael Caine, G...</td>\n",
       "      <td>Christopher Nolan</td>\n",
       "    </tr>\n",
       "    <tr>\n",
       "      <th>3</th>\n",
       "      <td>19995</td>\n",
       "      <td>Avatar</td>\n",
       "      <td>22nd century paraplegic marine dispatched moon...</td>\n",
       "      <td>2009-12-15</td>\n",
       "      <td>7.581</td>\n",
       "      <td>30907</td>\n",
       "      <td>action adventure fantasy sciencefiction</td>\n",
       "      <td>Sam Worthington, Zoe Saldaña, Sigourney Weaver...</td>\n",
       "      <td>James Cameron</td>\n",
       "    </tr>\n",
       "    <tr>\n",
       "      <th>4</th>\n",
       "      <td>24428</td>\n",
       "      <td>The Avengers</td>\n",
       "      <td>unexpected enemy emerges threatens global safe...</td>\n",
       "      <td>2012-04-25</td>\n",
       "      <td>7.714</td>\n",
       "      <td>30090</td>\n",
       "      <td>sciencefiction action adventure</td>\n",
       "      <td>Robert Downey Jr., Chris Evans, Mark Ruffalo, ...</td>\n",
       "      <td>Joss Whedon</td>\n",
       "    </tr>\n",
       "  </tbody>\n",
       "</table>\n",
       "</div>"
      ],
      "text/plain": [
       "       id            title                                        description  \\\n",
       "0   27205        Inception  cobb skilled thief commits corporate espionage...   \n",
       "1  157336     Interstellar  adventures group explorers make use newly disc...   \n",
       "2     155  The Dark Knight  batman raises stakes war crime help lt jim gor...   \n",
       "3   19995           Avatar  22nd century paraplegic marine dispatched moon...   \n",
       "4   24428     The Avengers  unexpected enemy emerges threatens global safe...   \n",
       "\n",
       "  release_date  rating  vote_count                                   genres  \\\n",
       "0   2010-07-15   8.368       35811          action sciencefiction adventure   \n",
       "1   2014-11-05   8.434       34465           adventure drama sciencefiction   \n",
       "2   2008-07-16   8.515       32012              drama action crime thriller   \n",
       "3   2009-12-15   7.581       30907  action adventure fantasy sciencefiction   \n",
       "4   2012-04-25   7.714       30090          sciencefiction action adventure   \n",
       "\n",
       "                                              actors           director  \n",
       "0  Leonardo DiCaprio, Joseph Gordon-Levitt, Ken W...  Christopher Nolan  \n",
       "1  Matthew McConaughey, Anne Hathaway, Michael Ca...  Christopher Nolan  \n",
       "2  Christian Bale, Heath Ledger, Michael Caine, G...  Christopher Nolan  \n",
       "3  Sam Worthington, Zoe Saldaña, Sigourney Weaver...      James Cameron  \n",
       "4  Robert Downey Jr., Chris Evans, Mark Ruffalo, ...        Joss Whedon  "
      ]
     },
     "execution_count": 84,
     "metadata": {},
     "output_type": "execute_result"
    }
   ],
   "source": [
    "df.head()"
   ]
  },
  {
   "cell_type": "code",
   "execution_count": 85,
   "metadata": {},
   "outputs": [
    {
     "data": {
      "text/plain": [
       "'Leonardo DiCaprio, Joseph Gordon-Levitt, Ken Watanabe, Tom Hardy, Elliot Page'"
      ]
     },
     "execution_count": 85,
     "metadata": {},
     "output_type": "execute_result"
    }
   ],
   "source": [
    "df['actors'][0]"
   ]
  },
  {
   "cell_type": "code",
   "execution_count": 86,
   "metadata": {},
   "outputs": [],
   "source": [
    "# Format names of actors and directors\n",
    "def format_person_name(name):\n",
    "    name = str(name)\n",
    "    return ' '.join(n.replace(' ', '').lower() for n in name.split(','))\n",
    "\n",
    "# Take only top 3 actors of movie\n",
    "def pick_top_3(actors):\n",
    "    return ' '.join(actors.split()[:3])"
   ]
  },
  {
   "cell_type": "code",
   "execution_count": 87,
   "metadata": {},
   "outputs": [],
   "source": [
    "df['actors'] = df['actors'].apply(format_person_name)\n",
    "df['actors'] = df['actors'].apply(pick_top_3)\n",
    "df['director'] = df['director'].apply(format_person_name)"
   ]
  },
  {
   "cell_type": "code",
   "execution_count": 88,
   "metadata": {},
   "outputs": [
    {
     "data": {
      "text/plain": [
       "'leonardodicaprio josephgordon-levitt kenwatanabe'"
      ]
     },
     "execution_count": 88,
     "metadata": {},
     "output_type": "execute_result"
    }
   ],
   "source": [
    "df['actors'][0]"
   ]
  },
  {
   "cell_type": "code",
   "execution_count": 89,
   "metadata": {},
   "outputs": [
    {
     "data": {
      "text/html": [
       "<div>\n",
       "<style scoped>\n",
       "    .dataframe tbody tr th:only-of-type {\n",
       "        vertical-align: middle;\n",
       "    }\n",
       "\n",
       "    .dataframe tbody tr th {\n",
       "        vertical-align: top;\n",
       "    }\n",
       "\n",
       "    .dataframe thead th {\n",
       "        text-align: right;\n",
       "    }\n",
       "</style>\n",
       "<table border=\"1\" class=\"dataframe\">\n",
       "  <thead>\n",
       "    <tr style=\"text-align: right;\">\n",
       "      <th></th>\n",
       "      <th>id</th>\n",
       "      <th>title</th>\n",
       "      <th>description</th>\n",
       "      <th>release_date</th>\n",
       "      <th>rating</th>\n",
       "      <th>vote_count</th>\n",
       "      <th>genres</th>\n",
       "      <th>actors</th>\n",
       "      <th>director</th>\n",
       "    </tr>\n",
       "  </thead>\n",
       "  <tbody>\n",
       "    <tr>\n",
       "      <th>0</th>\n",
       "      <td>27205</td>\n",
       "      <td>Inception</td>\n",
       "      <td>cobb skilled thief commits corporate espionage...</td>\n",
       "      <td>2010-07-15</td>\n",
       "      <td>8.368</td>\n",
       "      <td>35811</td>\n",
       "      <td>action sciencefiction adventure</td>\n",
       "      <td>leonardodicaprio josephgordon-levitt kenwatanabe</td>\n",
       "      <td>christophernolan</td>\n",
       "    </tr>\n",
       "    <tr>\n",
       "      <th>1</th>\n",
       "      <td>157336</td>\n",
       "      <td>Interstellar</td>\n",
       "      <td>adventures group explorers make use newly disc...</td>\n",
       "      <td>2014-11-05</td>\n",
       "      <td>8.434</td>\n",
       "      <td>34465</td>\n",
       "      <td>adventure drama sciencefiction</td>\n",
       "      <td>matthewmcconaughey annehathaway michaelcaine</td>\n",
       "      <td>christophernolan</td>\n",
       "    </tr>\n",
       "    <tr>\n",
       "      <th>2</th>\n",
       "      <td>155</td>\n",
       "      <td>The Dark Knight</td>\n",
       "      <td>batman raises stakes war crime help lt jim gor...</td>\n",
       "      <td>2008-07-16</td>\n",
       "      <td>8.515</td>\n",
       "      <td>32012</td>\n",
       "      <td>drama action crime thriller</td>\n",
       "      <td>christianbale heathledger michaelcaine</td>\n",
       "      <td>christophernolan</td>\n",
       "    </tr>\n",
       "    <tr>\n",
       "      <th>3</th>\n",
       "      <td>19995</td>\n",
       "      <td>Avatar</td>\n",
       "      <td>22nd century paraplegic marine dispatched moon...</td>\n",
       "      <td>2009-12-15</td>\n",
       "      <td>7.581</td>\n",
       "      <td>30907</td>\n",
       "      <td>action adventure fantasy sciencefiction</td>\n",
       "      <td>samworthington zoesaldaña sigourneyweaver</td>\n",
       "      <td>jamescameron</td>\n",
       "    </tr>\n",
       "    <tr>\n",
       "      <th>4</th>\n",
       "      <td>24428</td>\n",
       "      <td>The Avengers</td>\n",
       "      <td>unexpected enemy emerges threatens global safe...</td>\n",
       "      <td>2012-04-25</td>\n",
       "      <td>7.714</td>\n",
       "      <td>30090</td>\n",
       "      <td>sciencefiction action adventure</td>\n",
       "      <td>robertdowneyjr. chrisevans markruffalo</td>\n",
       "      <td>josswhedon</td>\n",
       "    </tr>\n",
       "  </tbody>\n",
       "</table>\n",
       "</div>"
      ],
      "text/plain": [
       "       id            title                                        description  \\\n",
       "0   27205        Inception  cobb skilled thief commits corporate espionage...   \n",
       "1  157336     Interstellar  adventures group explorers make use newly disc...   \n",
       "2     155  The Dark Knight  batman raises stakes war crime help lt jim gor...   \n",
       "3   19995           Avatar  22nd century paraplegic marine dispatched moon...   \n",
       "4   24428     The Avengers  unexpected enemy emerges threatens global safe...   \n",
       "\n",
       "  release_date  rating  vote_count                                   genres  \\\n",
       "0   2010-07-15   8.368       35811          action sciencefiction adventure   \n",
       "1   2014-11-05   8.434       34465           adventure drama sciencefiction   \n",
       "2   2008-07-16   8.515       32012              drama action crime thriller   \n",
       "3   2009-12-15   7.581       30907  action adventure fantasy sciencefiction   \n",
       "4   2012-04-25   7.714       30090          sciencefiction action adventure   \n",
       "\n",
       "                                             actors          director  \n",
       "0  leonardodicaprio josephgordon-levitt kenwatanabe  christophernolan  \n",
       "1      matthewmcconaughey annehathaway michaelcaine  christophernolan  \n",
       "2            christianbale heathledger michaelcaine  christophernolan  \n",
       "3         samworthington zoesaldaña sigourneyweaver      jamescameron  \n",
       "4            robertdowneyjr. chrisevans markruffalo        josswhedon  "
      ]
     },
     "execution_count": 89,
     "metadata": {},
     "output_type": "execute_result"
    }
   ],
   "source": [
    "df.head()"
   ]
  },
  {
   "cell_type": "markdown",
   "metadata": {},
   "source": [
    "### Vectorization"
   ]
  },
  {
   "cell_type": "code",
   "execution_count": 90,
   "metadata": {},
   "outputs": [],
   "source": [
    "from sklearn.feature_extraction.text import CountVectorizer"
   ]
  },
  {
   "cell_type": "markdown",
   "metadata": {},
   "source": [
    "Vectorize description, genres, top 3 actors and directors seprately with count vectorizer"
   ]
  },
  {
   "cell_type": "code",
   "execution_count": 91,
   "metadata": {},
   "outputs": [],
   "source": [
    "Desc_to_vec = CountVectorizer(max_features=5000, stop_words='english')\n",
    "desc_vec = Desc_to_vec.fit_transform(df['description'])\n",
    "desc_vec = pd.DataFrame.sparse.from_spmatrix(desc_vec)"
   ]
  },
  {
   "cell_type": "code",
   "execution_count": 92,
   "metadata": {},
   "outputs": [],
   "source": [
    "Genre_to_vec = CountVectorizer()\n",
    "genre_vec = Genre_to_vec.fit_transform(df['genres'])\n",
    "genre_vec = pd.DataFrame.sparse.from_spmatrix(genre_vec)"
   ]
  },
  {
   "cell_type": "code",
   "execution_count": 93,
   "metadata": {},
   "outputs": [
    {
     "data": {
      "text/plain": [
       "array(['action', 'adventure', 'animation', 'comedy', 'crime',\n",
       "       'documentary', 'drama', 'family', 'fantasy', 'history', 'horror',\n",
       "       'music', 'mystery', 'nan', 'romance', 'sciencefiction', 'thriller',\n",
       "       'tvmovie', 'war', 'western'], dtype=object)"
      ]
     },
     "execution_count": 93,
     "metadata": {},
     "output_type": "execute_result"
    }
   ],
   "source": [
    "Genre_to_vec.get_feature_names_out()"
   ]
  },
  {
   "cell_type": "code",
   "execution_count": 94,
   "metadata": {},
   "outputs": [],
   "source": [
    "Crew_to_vec = CountVectorizer(max_features=500)\n",
    "crew_vector = Crew_to_vec.fit_transform(df['actors'], df['director'])\n",
    "crew_vector = pd.DataFrame.sparse.from_spmatrix(crew_vector)"
   ]
  },
  {
   "cell_type": "code",
   "execution_count": 95,
   "metadata": {},
   "outputs": [
    {
     "name": "stdout",
     "output_type": "stream",
     "text": [
      "(10000, 5000)\n",
      "(10000, 20)\n",
      "(10000, 500)\n"
     ]
    }
   ],
   "source": [
    "print(desc_vec.shape)\n",
    "print(genre_vec.shape)\n",
    "print(crew_vector.shape)"
   ]
  },
  {
   "cell_type": "code",
   "execution_count": 96,
   "metadata": {},
   "outputs": [
    {
     "data": {
      "text/plain": [
       "(10000, 5520)"
      ]
     },
     "execution_count": 96,
     "metadata": {},
     "output_type": "execute_result"
    }
   ],
   "source": [
    "train_data = pd.concat([desc_vec, genre_vec, crew_vector], axis=1)\n",
    "train_data.shape"
   ]
  },
  {
   "cell_type": "markdown",
   "metadata": {},
   "source": [
    "### Cosine Similarity"
   ]
  },
  {
   "cell_type": "code",
   "execution_count": 97,
   "metadata": {},
   "outputs": [],
   "source": [
    "from sklearn.metrics.pairwise import cosine_similarity"
   ]
  },
  {
   "cell_type": "code",
   "execution_count": 98,
   "metadata": {},
   "outputs": [],
   "source": [
    "similarity = cosine_similarity(X=train_data)"
   ]
  },
  {
   "cell_type": "code",
   "execution_count": 99,
   "metadata": {},
   "outputs": [
    {
     "data": {
      "text/plain": [
       "(10000,)"
      ]
     },
     "execution_count": 99,
     "metadata": {},
     "output_type": "execute_result"
    }
   ],
   "source": [
    "similarity[0].shape"
   ]
  },
  {
   "cell_type": "code",
   "execution_count": 100,
   "metadata": {},
   "outputs": [
    {
     "data": {
      "text/plain": [
       "array([1.        , 0.0978232 , 0.0325128 , ..., 0.        , 0.06428243,\n",
       "       0.05504819])"
      ]
     },
     "execution_count": 100,
     "metadata": {},
     "output_type": "execute_result"
    }
   ],
   "source": [
    "similarity[0]"
   ]
  },
  {
   "cell_type": "code",
   "execution_count": 101,
   "metadata": {},
   "outputs": [],
   "source": [
    "def id_to_index(id):\n",
    "    return df[df['id'] == id].index[0]\n",
    "\n",
    "def index_to_id(index):\n",
    "    return df['id'][index]"
   ]
  },
  {
   "cell_type": "code",
   "execution_count": 102,
   "metadata": {},
   "outputs": [],
   "source": [
    "def get_top_index_per_row(arr, k=20):\n",
    "    # Get the number of rows and columns\n",
    "    num_rows, num_cols = arr.shape\n",
    "    \n",
    "    # Initialize an empty array to store the top k values for each row\n",
    "    top_k_indices_per_row = np.empty((num_rows, k), dtype=int)    \n",
    "\n",
    "    for i in range(num_rows):\n",
    "       \n",
    "        top_k_indices = np.argpartition(similarity[i], -k)[-k:]\n",
    "        \n",
    "        # Sort the top k indices by the corresponding values in descending order\n",
    "        sorted_top_k_indices = top_k_indices[np.argsort(similarity[i, top_k_indices])[::-1]]\n",
    "        \n",
    "        # Store the sorted top k indices in the result array\n",
    "        top_k_indices_per_row[i] = sorted_top_k_indices\n",
    "    \n",
    "    return top_k_indices_per_row\n",
    "\n",
    "similarity_indexed = get_top_index_per_row(similarity, 20)"
   ]
  },
  {
   "cell_type": "code",
   "execution_count": 103,
   "metadata": {},
   "outputs": [
    {
     "data": {
      "text/plain": [
       "array([[   0, 3763,  416, ..., 1440, 6962, 7594],\n",
       "       [   1, 4183, 2658, ..., 7464, 1646, 4021],\n",
       "       [   2,   25, 6956, ...,   18, 2609, 9722],\n",
       "       ...,\n",
       "       [9997, 8926, 5812, ..., 6451, 3282, 6476],\n",
       "       [9998, 7718, 1095, ..., 4793, 2846, 4161],\n",
       "       [9999, 9781, 7595, ..., 9179, 8409, 8702]])"
      ]
     },
     "execution_count": 103,
     "metadata": {},
     "output_type": "execute_result"
    }
   ],
   "source": [
    "similarity_indexed"
   ]
  },
  {
   "cell_type": "code",
   "execution_count": 104,
   "metadata": {},
   "outputs": [],
   "source": [
    "def recommand(id, start_rank = 1, end_rank = 10):\n",
    "    movies = []\n",
    "\n",
    "    # Find index of given id\n",
    "    try:\n",
    "        index = id_to_index(id)\n",
    "    except:\n",
    "        return 'Invalid id'\n",
    "    movies_rec = similarity_indexed[index][start_rank:end_rank+1]\n",
    "    for m in movies_rec:\n",
    "        movies.append(index_to_id(m))\n",
    "    return movies"
   ]
  },
  {
   "cell_type": "code",
   "execution_count": 105,
   "metadata": {},
   "outputs": [
    {
     "data": {
      "text/plain": [
       "[49026, 736074, 9546, 736073, 272, 40662, 14919, 414, 268, 80389]"
      ]
     },
     "execution_count": 105,
     "metadata": {},
     "output_type": "execute_result"
    }
   ],
   "source": [
    "recommand(155)"
   ]
  },
  {
   "cell_type": "code",
   "execution_count": 106,
   "metadata": {},
   "outputs": [
    {
     "name": "stdout",
     "output_type": "stream",
     "text": [
      "movie =>  Avengers: Infinity War\n",
      "recommandations =>\n",
      "Avengers: Endgame\n",
      "Avengers: Age of Ultron\n",
      "Teenage Mutant Ninja Turtles\n",
      "Spy Kids 3-D: Game Over\n",
      "Captain America: Civil War\n",
      "Green Lantern\n",
      "Marvel One-Shot: The Consultant\n",
      "Ant-Man\n",
      "Thor: Ragnarok\n",
      "Angel's Egg\n"
     ]
    }
   ],
   "source": [
    "m = 299536\n",
    "print('movie => ', df['title'][id_to_index(m)])\n",
    "print('recommandations =>')\n",
    "for id in recommand(m, start_rank=1, end_rank=10):\n",
    "    print(df['title'][id_to_index(id)])"
   ]
  },
  {
   "cell_type": "markdown",
   "metadata": {},
   "source": [
    "#### Save Similarity indexed"
   ]
  },
  {
   "cell_type": "code",
   "execution_count": 109,
   "metadata": {},
   "outputs": [],
   "source": [
    "import pickle\n",
    "\n",
    "pickle.dump(similarity_indexed, open('similarity.pkl', 'wb'))"
   ]
  }
 ],
 "metadata": {
  "kernelspec": {
   "display_name": "YT-env",
   "language": "python",
   "name": "python3"
  },
  "language_info": {
   "codemirror_mode": {
    "name": "ipython",
    "version": 3
   },
   "file_extension": ".py",
   "mimetype": "text/x-python",
   "name": "python",
   "nbconvert_exporter": "python",
   "pygments_lexer": "ipython3",
   "version": "3.9.undefined"
  }
 },
 "nbformat": 4,
 "nbformat_minor": 2
}
